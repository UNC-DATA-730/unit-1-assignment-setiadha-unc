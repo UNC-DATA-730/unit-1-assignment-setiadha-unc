{
 "cells": [
  {
   "cell_type": "code",
   "execution_count": 1,
   "id": "e520dc5b-dc68-491e-87ed-636d549bbd61",
   "metadata": {
    "tags": []
   },
   "outputs": [
    {
     "data": {
      "text/html": [
       "<span style=white-space:pre-wrap>'data730               *  /home/studio-lab-user/.conda/envs/data730'</span>"
      ],
      "text/latex": [
       "'data730               *  /home/studio-lab-user/.conda/envs/data730'"
      ],
      "text/markdown": [
       "<span style=white-space:pre-wrap>'data730               *  /home/studio-lab-user/.conda/envs/data730'</span>"
      ],
      "text/plain": [
       "[1] \"data730               *  /home/studio-lab-user/.conda/envs/data730\""
      ]
     },
     "metadata": {},
     "output_type": "display_data"
    }
   ],
   "source": [
    "system('conda env list | grep data730', intern = TRUE)"
   ]
  },
  {
   "cell_type": "code",
   "execution_count": 2,
   "id": "fc906030-1e47-409d-8edd-e7e881aabfd0",
   "metadata": {
    "tags": []
   },
   "outputs": [
    {
     "name": "stderr",
     "output_type": "stream",
     "text": [
      "Warning message:\n",
      "“Your system is mis-configured: ‘/var/db/timezone/localtime’ is not a symlink”\n",
      "Warning message:\n",
      "“‘/var/db/timezone/localtime’ is not identical to any known timezone file”\n",
      "── \u001b[1mAttaching packages\u001b[22m ────────────────────────────────────── tidymodels 1.2.0 ──\n",
      "\n",
      "\u001b[32m✔\u001b[39m \u001b[34mbroom       \u001b[39m 1.0.6     \u001b[32m✔\u001b[39m \u001b[34mrecipes     \u001b[39m 1.1.0\n",
      "\u001b[32m✔\u001b[39m \u001b[34mdials       \u001b[39m 1.2.1     \u001b[32m✔\u001b[39m \u001b[34mrsample     \u001b[39m 1.2.1\n",
      "\u001b[32m✔\u001b[39m \u001b[34mdplyr       \u001b[39m 1.1.4     \u001b[32m✔\u001b[39m \u001b[34mtibble      \u001b[39m 3.2.1\n",
      "\u001b[32m✔\u001b[39m \u001b[34mggplot2     \u001b[39m 3.5.1     \u001b[32m✔\u001b[39m \u001b[34mtidyr       \u001b[39m 1.3.1\n",
      "\u001b[32m✔\u001b[39m \u001b[34minfer       \u001b[39m 1.0.7     \u001b[32m✔\u001b[39m \u001b[34mtune        \u001b[39m 1.2.1\n",
      "\u001b[32m✔\u001b[39m \u001b[34mmodeldata   \u001b[39m 1.4.0     \u001b[32m✔\u001b[39m \u001b[34mworkflows   \u001b[39m 1.1.4\n",
      "\u001b[32m✔\u001b[39m \u001b[34mparsnip     \u001b[39m 1.2.1     \u001b[32m✔\u001b[39m \u001b[34mworkflowsets\u001b[39m 1.1.0\n",
      "\u001b[32m✔\u001b[39m \u001b[34mpurrr       \u001b[39m 1.0.2     \u001b[32m✔\u001b[39m \u001b[34myardstick   \u001b[39m 1.3.1\n",
      "\n",
      "── \u001b[1mConflicts\u001b[22m ───────────────────────────────────────── tidymodels_conflicts() ──\n",
      "\u001b[31m✖\u001b[39m \u001b[34mpurrr\u001b[39m::\u001b[32mdiscard()\u001b[39m masks \u001b[34mscales\u001b[39m::discard()\n",
      "\u001b[31m✖\u001b[39m \u001b[34mdplyr\u001b[39m::\u001b[32mfilter()\u001b[39m  masks \u001b[34mstats\u001b[39m::filter()\n",
      "\u001b[31m✖\u001b[39m \u001b[34mdplyr\u001b[39m::\u001b[32mlag()\u001b[39m     masks \u001b[34mstats\u001b[39m::lag()\n",
      "\u001b[31m✖\u001b[39m \u001b[34mrecipes\u001b[39m::\u001b[32mstep()\u001b[39m  masks \u001b[34mstats\u001b[39m::step()\n",
      "\u001b[34m•\u001b[39m Use suppressPackageStartupMessages() to eliminate package startup messages\n",
      "\n"
     ]
    }
   ],
   "source": [
    "library('tidymodels')"
   ]
  },
  {
   "cell_type": "code",
   "execution_count": 7,
   "id": "0cdb1da2-f4ac-4af2-bb77-1d98f6d61d40",
   "metadata": {
    "tags": []
   },
   "outputs": [],
   "source": [
    "toss_fair_coin_n_times = function(n_tosses = 250) {\n",
    "    result = ifelse(runif(n = n_tosses) < 0.5, 'heads', 'tails')\n",
    "    result\n",
    "}\n",
    "\n",
    "repeat_the_experiment = function(n_iterations, n_tosses = 250) {\n",
    "    n_heads_each_iteration = c()\n",
    "    for (i in 1:n_iterations) {\n",
    "        n_heads = sum(toss_fair_coin_n_times(n_tosses) == 'heads')\n",
    "        n_heads_each_iteration = c(n_heads_each_iteration, n_heads)\n",
    "    }\n",
    "    n_heads_each_iteration\n",
    "}"
   ]
  },
  {
   "cell_type": "code",
   "execution_count": 8,
   "id": "6b34a981-e0ed-40cb-b2c1-aa22f4dbff4e",
   "metadata": {
    "tags": []
   },
   "outputs": [
    {
     "data": {
      "text/html": [
       "'With a fair coin we could expect a deviation as large or larger than we observed 8.77% of times'"
      ],
      "text/latex": [
       "'With a fair coin we could expect a deviation as large or larger than we observed 8.77\\% of times'"
      ],
      "text/markdown": [
       "'With a fair coin we could expect a deviation as large or larger than we observed 8.77% of times'"
      ],
      "text/plain": [
       "[1] \"With a fair coin we could expect a deviation as large or larger than we observed 8.77% of times\""
      ]
     },
     "metadata": {},
     "output_type": "display_data"
    }
   ],
   "source": [
    "n_iterations = 10000\n",
    "n_tosses = 250\n",
    "observed_deviation = 139 - 125 #heads observed, expected value for a fair coin of 125\n",
    "\n",
    "n_heads_each_experiment = repeat_the_experiment(n_iterations, n_tosses)\n",
    "\n",
    "x = mean(abs(n_heads_each_experiment - 125) >= observed_deviation)\n",
    "paste0('With a fair coin we could expect a deviation as large or larger than we observed ', x*100, '% of times')"
   ]
  },
  {
   "cell_type": "code",
   "execution_count": null,
   "id": "6b747aa1-e768-42f7-9171-98dcd7e115c8",
   "metadata": {},
   "outputs": [],
   "source": []
  }
 ],
 "metadata": {
  "kernelspec": {
   "display_name": ".conda-data730:R",
   "language": "R",
   "name": "conda-env-.conda-data730-r"
  },
  "language_info": {
   "codemirror_mode": "r",
   "file_extension": ".r",
   "mimetype": "text/x-r-source",
   "name": "R",
   "pygments_lexer": "r",
   "version": "4.3.3"
  }
 },
 "nbformat": 4,
 "nbformat_minor": 5
}
